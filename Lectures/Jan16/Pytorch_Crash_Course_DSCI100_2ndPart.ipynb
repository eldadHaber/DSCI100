{
  "nbformat": 4,
  "nbformat_minor": 0,
  "metadata": {
    "colab": {
      "provenance": []
    },
    "kernelspec": {
      "name": "python3",
      "display_name": "Python 3"
    },
    "language_info": {
      "name": "python"
    }
  },
  "cells": [
    {
      "cell_type": "markdown",
      "source": [
        "# PyTorch Crash Course (Overview)"
      ],
      "metadata": {
        "id": "FrpOQXjrSipm"
      }
    },
    {
      "cell_type": "markdown",
      "source": [
        "## Importing Required Libraries\n",
        "\n",
        "We begin by importing essential libraries like PyTorch and Matplotlib.\n"
      ],
      "metadata": {
        "id": "GO8X1p3USl0f"
      }
    },
    {
      "cell_type": "code",
      "source": [
        "import torch\n",
        "import matplotlib.pyplot as plt\n"
      ],
      "metadata": {
        "id": "-2l-koDmSsGF"
      },
      "execution_count": null,
      "outputs": []
    },
    {
      "cell_type": "markdown",
      "source": [
        "In mathematics and data science, **vectors**, **matrices**, and **tensors** are fundamental building blocks for representing and processing data. Here's a brief overview:\n",
        "\n",
        "### **1. Vector**\n",
        "- A **vector** is an array of numbers.\n",
        "- **Examples:**\n",
        "  - A vector with 3 compenent: $\\mathbf{v} = [v_1, v_2, v_3]$\n",
        "  - A list of exam scores: $[85, 90, 78, 100]$\n",
        "\n",
        "\n",
        "### **2. Matrix**\n",
        "- A **matrix** is a 2D array of numbers arranged in rows and columns.\n",
        "- **Examples:**\n",
        "  - A 3x3 matrix:  \n",
        "$$\n",
        "\\mathbf{M} = \\begin{bmatrix} 1 & 2 & 3 \\\\\n",
        "                           4 & 5 & 6 \\\\\n",
        "                           7 & 8 & 9 \\end{bmatrix}\n",
        "$$\n",
        "  - A grayscale image can be represented as a matrix of pixel values.\n",
        "- **Dimensions:** 2D (rows × columns, e.g., \\(m \\times n\\))\n",
        "\n",
        "### **3. Tensor**\n",
        "- A **tensor** is a generalization of a vector and matrix to higher dimensions (n-dimensional arrays).\n",
        "- **Examples:**\n",
        "  - A 3D tensor can represent RGB images\n",
        "\n",
        "### **PyTorch and Tensors**\n",
        "- In PyTorch:\n",
        "  - **1D tensors** are used to represent vectors.\n",
        "  - **2D tensors** are used to represent matrices.\n",
        "  - **nD tensors** are used for higher-dimensional data such as images, videos, and time series.\n",
        "- Tensors are highly efficient for mathematical operations and leverage GPU acceleration."
      ],
      "metadata": {
        "id": "LTXWxeTFVl6g"
      }
    },
    {
      "cell_type": "code",
      "source": [
        "# Creating a vector (1D tensor)\n",
        "# Syntax: torch.tensor([value1, value2, ...])\n",
        "# Single pair of square brackets for 1D data\n",
        "vector = torch.tensor([1, 2, 3, 4, 5])\n",
        "print(\"Vector:\\n\", vector)\n"
      ],
      "metadata": {
        "colab": {
          "base_uri": "https://localhost:8080/"
        },
        "id": "xT-QbZs0Xrop",
        "outputId": "e54b4f40-36a1-4be8-80e1-dcfdb21a6ea1"
      },
      "execution_count": null,
      "outputs": [
        {
          "output_type": "stream",
          "name": "stdout",
          "text": [
            "Vector:\n",
            " tensor([1, 2, 3, 4, 5])\n"
          ]
        }
      ]
    },
    {
      "cell_type": "code",
      "source": [
        "# Creating a matrix (2D tensor)\n",
        "# Syntax: torch.tensor([[row1_values], [row2_values], ...])\n",
        "# Nested square brackets to represent rows and columns\n",
        "matrix = torch.tensor([[1, 2, 3], [4, 5, 6], [7, 8, 9]])\n",
        "print(\"\\nMatrix:\\n\", matrix)\n"
      ],
      "metadata": {
        "colab": {
          "base_uri": "https://localhost:8080/"
        },
        "id": "QGL5ecDrXtgI",
        "outputId": "8ccc186c-2be1-483c-c6b9-d23334b7e242"
      },
      "execution_count": null,
      "outputs": [
        {
          "output_type": "stream",
          "name": "stdout",
          "text": [
            "\n",
            "Matrix:\n",
            " tensor([[1, 2, 3],\n",
            "        [4, 5, 6],\n",
            "        [7, 8, 9]])\n"
          ]
        }
      ]
    },
    {
      "cell_type": "code",
      "source": [
        "# Creating a 3D tensor\n",
        "# Syntax: torch.tensor([[[matrix1_row1], [matrix1_row2]], [[matrix2_row1], [matrix2_row2]]])\n",
        "# Three levels of brackets: outer for matrices, inner for rows, innermost for elements\n",
        "tensor = torch.tensor([[[1, 2], [3, 4]], [[5, 6], [7, 8]]])\n",
        "print(\"\\nTensor:\\n\", tensor)\n"
      ],
      "metadata": {
        "colab": {
          "base_uri": "https://localhost:8080/"
        },
        "id": "jaJuvmNQX2ph",
        "outputId": "5adf6b60-1b49-406f-98d0-dfd528522411"
      },
      "execution_count": null,
      "outputs": [
        {
          "output_type": "stream",
          "name": "stdout",
          "text": [
            "\n",
            "Tensor:\n",
            " tensor([[[1, 2],\n",
            "         [3, 4]],\n",
            "\n",
            "        [[5, 6],\n",
            "         [7, 8]]])\n"
          ]
        }
      ]
    },
    {
      "cell_type": "markdown",
      "source": [
        "## Basic Tensor Operations\n",
        "\n",
        "We can perform various operations on tensors, such as:\n",
        "- Addition\n",
        "- Subtraction\n",
        "- Multiplication\n",
        "- Matrix operations"
      ],
      "metadata": {
        "id": "MN4qFP_rYbcj"
      }
    },
    {
      "cell_type": "code",
      "source": [
        "# Creating a vector (1D tensor)\n",
        "vector = torch.tensor([1, 2, 3, 4, 5])\n",
        "print(\"Vector:\", vector)"
      ],
      "metadata": {
        "colab": {
          "base_uri": "https://localhost:8080/"
        },
        "id": "RfdAPuF-ZZGa",
        "outputId": "2a9d50cc-84ce-4559-c83c-18dbb98f24bd"
      },
      "execution_count": null,
      "outputs": [
        {
          "output_type": "stream",
          "name": "stdout",
          "text": [
            "Vector: tensor([1, 2, 3, 4, 5])\n"
          ]
        }
      ]
    },
    {
      "cell_type": "code",
      "source": [
        "# Accessing an element from the vector\n",
        "# Syntax: tensor[index]\n",
        "element = vector[2]  # Access the 3rd element (index 2)\n",
        "print(\"\\nAccessed Element:\", element)"
      ],
      "metadata": {
        "colab": {
          "base_uri": "https://localhost:8080/"
        },
        "id": "rqgJ8n3CZdT-",
        "outputId": "5706228f-3b1d-47db-cfe4-24a90c687e81"
      },
      "execution_count": null,
      "outputs": [
        {
          "output_type": "stream",
          "name": "stdout",
          "text": [
            "\n",
            "Accessed Element: tensor(3)\n"
          ]
        }
      ]
    },
    {
      "cell_type": "code",
      "source": [
        "# Accessing an interval from the vector\n",
        "# Syntax: tensor[star:end]\n",
        "element = vector[2:4]  # Access the 3rd element (index 2)\n",
        "print(\"\\nAccessed Element:\", element)"
      ],
      "metadata": {
        "colab": {
          "base_uri": "https://localhost:8080/"
        },
        "id": "4YtsdP1XZqJm",
        "outputId": "20840762-a691-41a1-e9be-cbca15527199"
      },
      "execution_count": null,
      "outputs": [
        {
          "output_type": "stream",
          "name": "stdout",
          "text": [
            "\n",
            "Accessed Element: tensor([3, 4])\n"
          ]
        }
      ]
    },
    {
      "cell_type": "code",
      "source": [
        "# Creating a matrix (2D tensor)\n",
        "matrix = torch.tensor([[1, 2, 3], [4, 5, 6], [7, 8, 9]])\n",
        "print(\"\\nMatrix:\\n\", matrix)"
      ],
      "metadata": {
        "colab": {
          "base_uri": "https://localhost:8080/"
        },
        "id": "h2G794N0aLFz",
        "outputId": "1e055da0-d321-4de6-91b1-8bb09406ec4c"
      },
      "execution_count": null,
      "outputs": [
        {
          "output_type": "stream",
          "name": "stdout",
          "text": [
            "\n",
            "Matrix:\n",
            " tensor([[1, 2, 3],\n",
            "        [4, 5, 6],\n",
            "        [7, 8, 9]])\n"
          ]
        }
      ]
    },
    {
      "cell_type": "code",
      "source": [
        "# Accessing an element from the matrix\n",
        "# Syntax: tensor[row_index, column_index]\n",
        "element_matrix = matrix[1, 2]  # Access element in the 2nd row and 3rd column\n",
        "print(\"\\nAccessed Matrix Element:\", element_matrix)"
      ],
      "metadata": {
        "colab": {
          "base_uri": "https://localhost:8080/"
        },
        "id": "-sUEGrwwaMWA",
        "outputId": "86cbfeaa-abd7-4657-869f-12ee2b6274f4"
      },
      "execution_count": null,
      "outputs": [
        {
          "output_type": "stream",
          "name": "stdout",
          "text": [
            "\n",
            "Accessed Matrix Element: tensor(6)\n"
          ]
        }
      ]
    },
    {
      "cell_type": "code",
      "source": [
        "# Accessing a row from the matrix\n",
        "# Syntax: tensor[row_index, :]\n",
        "row = matrix[1, :]  # Access the entire 2nd row\n",
        "print(\"\\nAccessed Row (2nd row):\", row)\n"
      ],
      "metadata": {
        "colab": {
          "base_uri": "https://localhost:8080/"
        },
        "id": "ZbEHGQ72aPn0",
        "outputId": "0b92e511-9ef1-4646-87f9-20695d4f1946"
      },
      "execution_count": null,
      "outputs": [
        {
          "output_type": "stream",
          "name": "stdout",
          "text": [
            "\n",
            "Accessed Row (2nd row): tensor([4, 5, 6])\n"
          ]
        }
      ]
    },
    {
      "cell_type": "code",
      "source": [
        "# Accessing a column from the matrix\n",
        "# Syntax: tensor[:, column_index]\n",
        "column = matrix[:, 2]  # Access the entire 3rd column\n",
        "print(\"\\nAccessed Column (3rd column):\", column)"
      ],
      "metadata": {
        "colab": {
          "base_uri": "https://localhost:8080/"
        },
        "id": "G2LJoPboaUVY",
        "outputId": "33efd740-c237-4d32-ecea-00fe4e16b55c"
      },
      "execution_count": null,
      "outputs": [
        {
          "output_type": "stream",
          "name": "stdout",
          "text": [
            "\n",
            "Accessed Column (3rd column): tensor([3, 6, 9])\n"
          ]
        }
      ]
    },
    {
      "cell_type": "code",
      "source": [
        "# Accessing a range of rows and columns\n",
        "# Syntax: tensor[row_start:row_end, col_start:col_end]\n",
        "sub_matrix = matrix[0:2, 1:3]  # Access rows 1-2 and columns 2-3\n",
        "print(\"\\nAccessed Sub-matrix:\\n\", sub_matrix)\n"
      ],
      "metadata": {
        "colab": {
          "base_uri": "https://localhost:8080/"
        },
        "id": "UxuZKKbkaZOW",
        "outputId": "9c535422-0940-4a52-be2c-c7d00d7bed44"
      },
      "execution_count": null,
      "outputs": [
        {
          "output_type": "stream",
          "name": "stdout",
          "text": [
            "\n",
            "Accessed Sub-matrix:\n",
            " tensor([[2, 3],\n",
            "        [5, 6]])\n"
          ]
        }
      ]
    },
    {
      "cell_type": "markdown",
      "source": [
        "### Example: Broadcasting\n",
        "- **Broadcasting** is a technique that allows PyTorch to perform operations on tensors of different shapes, by automatically expanding their shapes to make them compatible. This eliminates the need for explicit replication, making operations more efficient.\n",
        "- **Rules for Broadcasting**:\n",
        "  1. Tensors are aligned from the right (trailing dimensions are compared).\n",
        "  2. A dimension with size 1 is stretched to match the other tensor's size.\n",
        "  3. Missing dimensions are added with size 1.\n"
      ],
      "metadata": {
        "id": "Fis1fvrVbh4X"
      }
    },
    {
      "cell_type": "code",
      "source": [
        "# Example 1: Adding a scalar to a tensor\n",
        "# A scalar (single value) is broadcasted to match the shape of the tensor\n",
        "scalar = 10\n",
        "vector = torch.tensor([1, 2, 3, 4, 5])\n",
        "result_scalar_add = vector + scalar\n",
        "print(\"Vector:\", vector)\n",
        "print(\"Scalar:\", scalar)\n",
        "print(\"\\nResult of Adding Scalar to Vector:\", result_scalar_add)"
      ],
      "metadata": {
        "colab": {
          "base_uri": "https://localhost:8080/"
        },
        "id": "thx8qTQ6enyH",
        "outputId": "c27c8428-204f-4033-a451-0f67cc86795f"
      },
      "execution_count": null,
      "outputs": [
        {
          "output_type": "stream",
          "name": "stdout",
          "text": [
            "Vector: tensor([1, 2, 3, 4, 5])\n",
            "Scalar: 10\n",
            "\n",
            "Result of Adding Scalar to Vector: tensor([11, 12, 13, 14, 15])\n"
          ]
        }
      ]
    },
    {
      "cell_type": "code",
      "source": [
        "# Example 2: Adding a 1D tensor (vector) to a 2D tensor (matrix)\n",
        "# The vector is broadcasted to each row of the matrix\n",
        "matrix = torch.tensor([[1, 2, 3], [4, 5, 6], [7, 8, 9]])\n",
        "broadcast_vector = torch.tensor([10, 20, 30])\n",
        "result_vector_add = matrix + broadcast_vector\n",
        "print(\"\\nMatrix:\\n\", matrix)\n",
        "print(\"Broadcast Vector:\", broadcast_vector)\n",
        "print(\"\\nResult of Adding Vector to Matrix:\\n\", result_vector_add)\n"
      ],
      "metadata": {
        "colab": {
          "base_uri": "https://localhost:8080/"
        },
        "id": "i4-cyV4YeyxD",
        "outputId": "cfdb7320-3671-4f49-ab14-4f47cc45f847"
      },
      "execution_count": null,
      "outputs": [
        {
          "output_type": "stream",
          "name": "stdout",
          "text": [
            "\n",
            "Matrix:\n",
            " tensor([[1, 2, 3],\n",
            "        [4, 5, 6],\n",
            "        [7, 8, 9]])\n",
            "Broadcast Vector: tensor([10, 20, 30])\n",
            "\n",
            "Result of Adding Vector to Matrix:\n",
            " tensor([[11, 22, 33],\n",
            "        [14, 25, 36],\n",
            "        [17, 28, 39]])\n"
          ]
        }
      ]
    },
    {
      "cell_type": "code",
      "source": [
        "# Exercise: Try subtracting a 1D tensor from a 2D tensor and observe the result\n",
        "exercise_matrix = torch.tensor([[100, 200, 300], [400, 500, 600]])\n",
        "exercise_vector = torch.tensor([10, 20, 30])\n",
        "result_exercise = exercise_matrix - exercise_vector\n",
        "print(\"\\nExercise Matrix:\\n\", exercise_matrix)\n",
        "print(\"Exercise Vector:\", exercise_vector)\n",
        "print(\"\\nResult of Subtracting Vector from Matrix:\\n\", result_exercise)"
      ],
      "metadata": {
        "colab": {
          "base_uri": "https://localhost:8080/"
        },
        "id": "14xltRVafJ1x",
        "outputId": "90628fe2-4537-4452-c8fe-234fd0d15a71"
      },
      "execution_count": null,
      "outputs": [
        {
          "output_type": "stream",
          "name": "stdout",
          "text": [
            "\n",
            "Exercise Matrix:\n",
            " tensor([[100, 200, 300],\n",
            "        [400, 500, 600]])\n",
            "Exercise Vector: tensor([10, 20, 30])\n",
            "\n",
            "Result of Subtracting Vector from Matrix:\n",
            " tensor([[ 90, 180, 270],\n",
            "        [390, 480, 570]])\n"
          ]
        }
      ]
    },
    {
      "cell_type": "code",
      "source": [
        "C = torch.ones(2, 3, 4)  # Shape: (2, 3, 4)\n",
        "d = torch.tensor([10, 20, 30, 40])  # Shape: (4,)\n",
        "result = C+d\n",
        "print(result)\n",
        "# Output:\n",
        "# Tensor of shape (2, 3, 4) with `d` added along the last dimension\n"
      ],
      "metadata": {
        "colab": {
          "base_uri": "https://localhost:8080/"
        },
        "id": "1mnqd90-g5EI",
        "outputId": "b4815107-fb93-4242-fb9f-6898e2eb85ef"
      },
      "execution_count": null,
      "outputs": [
        {
          "output_type": "stream",
          "name": "stdout",
          "text": [
            "tensor([[[11., 21., 31., 41.],\n",
            "         [11., 21., 31., 41.],\n",
            "         [11., 21., 31., 41.]],\n",
            "\n",
            "        [[11., 21., 31., 41.],\n",
            "         [11., 21., 31., 41.],\n",
            "         [11., 21., 31., 41.]]])\n"
          ]
        }
      ]
    },
    {
      "cell_type": "code",
      "source": [
        "A = torch.tensor([[1, 2, 3], [4, 5, 6]])  # Shape: (2, 3)\n",
        "b = torch.tensor([10, 20])                # Shape: (2,)\n",
        "\n",
        "result = A + b  # This will raise an error\n"
      ],
      "metadata": {
        "colab": {
          "base_uri": "https://localhost:8080/",
          "height": 176
        },
        "id": "q7fBjMy5hYvU",
        "outputId": "84b47c49-eb16-4e31-dd1a-4d67eb95cde6"
      },
      "execution_count": null,
      "outputs": [
        {
          "output_type": "error",
          "ename": "RuntimeError",
          "evalue": "The size of tensor a (3) must match the size of tensor b (2) at non-singleton dimension 1",
          "traceback": [
            "\u001b[0;31m---------------------------------------------------------------------------\u001b[0m",
            "\u001b[0;31mRuntimeError\u001b[0m                              Traceback (most recent call last)",
            "\u001b[0;32m<ipython-input-17-7b3810923f15>\u001b[0m in \u001b[0;36m<cell line: 0>\u001b[0;34m()\u001b[0m\n\u001b[1;32m      2\u001b[0m \u001b[0mb\u001b[0m \u001b[0;34m=\u001b[0m \u001b[0mtorch\u001b[0m\u001b[0;34m.\u001b[0m\u001b[0mtensor\u001b[0m\u001b[0;34m(\u001b[0m\u001b[0;34m[\u001b[0m\u001b[0;36m10\u001b[0m\u001b[0;34m,\u001b[0m \u001b[0;36m20\u001b[0m\u001b[0;34m]\u001b[0m\u001b[0;34m)\u001b[0m                \u001b[0;31m# Shape: (2,)\u001b[0m\u001b[0;34m\u001b[0m\u001b[0;34m\u001b[0m\u001b[0m\n\u001b[1;32m      3\u001b[0m \u001b[0;34m\u001b[0m\u001b[0m\n\u001b[0;32m----> 4\u001b[0;31m \u001b[0mresult\u001b[0m \u001b[0;34m=\u001b[0m \u001b[0mA\u001b[0m \u001b[0;34m+\u001b[0m \u001b[0mb\u001b[0m  \u001b[0;31m# This will raise an error\u001b[0m\u001b[0;34m\u001b[0m\u001b[0;34m\u001b[0m\u001b[0m\n\u001b[0m",
            "\u001b[0;31mRuntimeError\u001b[0m: The size of tensor a (3) must match the size of tensor b (2) at non-singleton dimension 1"
          ]
        }
      ]
    },
    {
      "cell_type": "code",
      "source": [
        "A = torch.ones(3, 2)  # Shape: (3, 2)\n",
        "B = torch.ones(4, 3)  # Shape: (4, 3)\n",
        "\n",
        "result = A + B  # This will raise an error\n"
      ],
      "metadata": {
        "id": "t7MQ4z8IhfRI"
      },
      "execution_count": null,
      "outputs": []
    },
    {
      "cell_type": "markdown",
      "source": [
        "## Functions\n",
        "\n",
        "Functions are reusable blocks of code that take input(s), process them, and return output(s). In Python, we use the def keyword to define functions. Functions are particularly useful for organizing code, avoiding repetition, and improving clarity.\n",
        "\n",
        "In PyTorch, functions can encapsulate tensor operations, making it easier to perform specific tasks repeatedly, such as mathematical computations or tensor manipulations."
      ],
      "metadata": {
        "id": "n5kbMU6RiJJZ"
      }
    },
    {
      "cell_type": "code",
      "source": [
        "def function_name(parameters):\n",
        "    # Code block that processes the input(s)\n",
        "    return result\n",
        "\n",
        "# function_name: The name of the function.\n",
        "# parameters: The input(s) to the function. These can be tensors, numbers, or other types.\n",
        "# return: The output of the function, returned to the caller."
      ],
      "metadata": {
        "id": "vDp9q3S9iStN"
      },
      "execution_count": null,
      "outputs": []
    },
    {
      "cell_type": "code",
      "source": [
        "def add_tensors(tensor1, tensor2):\n",
        "    return tensor1 + tensor2\n",
        "\n",
        "# Example usage\n",
        "x = torch.tensor([1, 2, 3])\n",
        "y = torch.tensor([4, 5, 6])\n",
        "result = add_tensors(x, y)\n",
        "print(\"Result of Addition:\", result)\n"
      ],
      "metadata": {
        "colab": {
          "base_uri": "https://localhost:8080/"
        },
        "id": "TueL65mKiXG4",
        "outputId": "3f47704d-2a8e-4e66-8532-a1a943f51040"
      },
      "execution_count": null,
      "outputs": [
        {
          "output_type": "stream",
          "name": "stdout",
          "text": [
            "Result of Addition: tensor([5, 7, 9])\n"
          ]
        }
      ]
    },
    {
      "cell_type": "code",
      "source": [
        "def tensor_reductions(tensor):\n",
        "    tensor = tensor.float()  # Explicitly cast to float\n",
        "    total_sum = torch.sum(tensor)\n",
        "    mean_value = torch.mean(tensor)\n",
        "    max_value = torch.max(tensor)\n",
        "    return total_sum, mean_value, max_value\n",
        "\n",
        "# Example usage\n",
        "x = torch.tensor([[1, 2, 3], [4, 5, 6]])\n",
        "sum_val, mean_val, max_val = tensor_reductions(x)\n",
        "print(\"Sum:\", sum_val)\n",
        "print(\"Mean:\", mean_val)\n",
        "print(\"Max:\", max_val)\n"
      ],
      "metadata": {
        "colab": {
          "base_uri": "https://localhost:8080/"
        },
        "id": "uNNI7KYRiemb",
        "outputId": "8bf72c5a-80e4-42e6-8e44-486c3c43348d"
      },
      "execution_count": null,
      "outputs": [
        {
          "output_type": "stream",
          "name": "stdout",
          "text": [
            "Sum: tensor(21.)\n",
            "Mean: tensor(3.5000)\n",
            "Max: tensor(6.)\n"
          ]
        }
      ]
    },
    {
      "cell_type": "markdown",
      "source": [
        "Exercise: Define a Function to Calculate Circle Area in PyTorch\n",
        "\n",
        "Task: Create a PyTorch function that calculates the area of a circle given its radius.\n",
        "The function should:\n",
        "1. Take a tensor of radii as input.\n",
        "2. Return a tensor of circle areas.\n",
        "3. Use the formula: Area = pi * radius^2\n",
        "\n"
      ],
      "metadata": {
        "id": "m-nluSGQjxYI"
      }
    },
    {
      "cell_type": "code",
      "source": [
        "def calculate_circle_area(radii):\n",
        "    \"\"\"\n",
        "    Calculate the area of circles given their radii.\n",
        "\n",
        "    Parameters:\n",
        "    radii (torch.Tensor): A tensor containing the radii of circles.\n",
        "\n",
        "    Returns:\n",
        "    torch.Tensor: A tensor containing the areas of the circles.\n",
        "    \"\"\"\n",
        "    pi = torch.pi  # Use torch.pi for higher precision and clarity\n",
        "    areas = pi * (radii ** 2)  # Calculate areas using the formula\n",
        "    return areas\n",
        "\n",
        "# Step 3: Test the function\n",
        "# Create a tensor of radii\n",
        "radii = torch.tensor([1.0, 2.0, 3.0, 4.5])\n",
        "\n",
        "# Call the function to calculate the areas\n",
        "areas = calculate_circle_area(radii)\n",
        "\n",
        "# Print the results\n",
        "print(\"Radii:\", radii)\n",
        "print(\"Calculated Areas:\", areas)"
      ],
      "metadata": {
        "colab": {
          "base_uri": "https://localhost:8080/"
        },
        "id": "T4iUfyY9kpF-",
        "outputId": "61c78fa6-9b09-4bc0-bcd3-18ea80eb470f"
      },
      "execution_count": null,
      "outputs": [
        {
          "output_type": "stream",
          "name": "stdout",
          "text": [
            "Radii: tensor([1.0000, 2.0000, 3.0000, 4.5000])\n",
            "Calculated Areas: tensor([ 3.1416, 12.5664, 28.2743, 63.6173])\n"
          ]
        }
      ]
    },
    {
      "cell_type": "markdown",
      "source": [
        "Data visualization\n",
        "\n",
        "Data visualization is crucial for understanding datasets, models, and outputs. PyTorch, combined with Matplotlib, makes it easy to:\n",
        "\n",
        "    1- Visualize tensors directly.\n",
        "    2- Plot results like losses or predictions.\n",
        "    3- Analyze datasets like images and distributions."
      ],
      "metadata": {
        "id": "DAIPdKjn19PT"
      }
    },
    {
      "cell_type": "code",
      "source": [
        "import torch\n",
        "import matplotlib.pyplot as plt\n",
        "\n",
        "# Generate tensor data for sine wave\n",
        "x = torch.linspace(0, 2 * torch.pi, 100)\n",
        "y = torch.sin(x)\n",
        "\n",
        "# Plot the sine wave\n",
        "plt.plot(x.numpy(), y.numpy(), label=\"Sine Wave\")\n",
        "plt.xlabel(\"x\")\n",
        "plt.ylabel(\"sin(x)\")\n",
        "plt.title(\"Sine Wave Visualization\")\n",
        "plt.legend()\n",
        "plt.grid()\n",
        "plt.show()"
      ],
      "metadata": {
        "colab": {
          "base_uri": "https://localhost:8080/",
          "height": 472
        },
        "id": "uNHvKb1O2AdA",
        "outputId": "c37de863-2078-4a93-e843-336dc5b81e67"
      },
      "execution_count": null,
      "outputs": [
        {
          "output_type": "display_data",
          "data": {
            "text/plain": [
              "<Figure size 640x480 with 1 Axes>"
            ],
            "image/png": "[encoded data removed]"
          },
          "metadata": {}
        }
      ]
    },
    {
      "cell_type": "code",
      "source": [
        "# Generate random 2D points\n",
        "x = torch.randn(100)\n",
        "y = torch.randn(100)\n",
        "\n",
        "# Scatter plot\n",
        "plt.scatter(x.numpy(), y.numpy(), color=\"blue\", alpha=0.6, edgecolor=\"black\")\n",
        "plt.xlabel(\"x\")\n",
        "plt.ylabel(\"y\")\n",
        "plt.title(\"Random Scatter Plot\")\n",
        "plt.show()"
      ],
      "metadata": {
        "colab": {
          "base_uri": "https://localhost:8080/",
          "height": 472
        },
        "id": "-rXb9y3k2Cw6",
        "outputId": "a0c0aab2-d8e4-4151-c6c3-cba0dcf190ca"
      },
      "execution_count": null,
      "outputs": [
        {
          "output_type": "display_data",
          "data": {
            "text/plain": [
              "<Figure size 640x480 with 1 Axes>"
            ],
            "image/png": "[encoded data removed]"
          },
          "metadata": {}
        }
      ]
    },
    {
      "cell_type": "code",
      "source": [
        "from torchvision import datasets, transforms\n",
        "\n",
        "# Load MNIST dataset\n",
        "transform = transforms.ToTensor()\n",
        "mnist = datasets.MNIST(root=\"./data\", train=True, download=True, transform=transform)\n",
        "\n",
        "# Visualize 6 samples\n",
        "fig, axes = plt.subplots(1, 6, figsize=(12, 4))\n",
        "for i in range(6):\n",
        "    image, label = mnist[i]\n",
        "    axes[i].imshow(image.squeeze(), cmap=\"gray\")\n",
        "    axes[i].set_title(f\"Label: {label}\")\n",
        "    axes[i].axis(\"off\")\n",
        "plt.tight_layout()\n",
        "plt.show()"
      ],
      "metadata": {
        "colab": {
          "base_uri": "https://localhost:8080/",
          "height": 866
        },
        "id": "vTciX0Y82HgP",
        "outputId": "770a1a22-5887-4636-8e45-e59f6b37c337"
      },
      "execution_count": null,
      "outputs": [
        {
          "output_type": "stream",
          "name": "stdout",
          "text": [
            "Downloading http://yann.lecun.com/exdb/mnist/train-images-idx3-ubyte.gz\n",
            "Failed to download (trying next):\n",
            "<urlopen error [Errno 110] Connection timed out>\n",
            "\n",
            "Downloading https://ossci-datasets.s3.amazonaws.com/mnist/train-images-idx3-ubyte.gz\n",
            "Downloading https://ossci-datasets.s3.amazonaws.com/mnist/train-images-idx3-ubyte.gz to ./data/MNIST/raw/train-images-idx3-ubyte.gz\n"
          ]
        },
        {
          "output_type": "stream",
          "name": "stderr",
          "text": [
            "100%|██████████| 9.91M/9.91M [00:00<00:00, 60.1MB/s]\n"
          ]
        },
        {
          "output_type": "stream",
          "name": "stdout",
          "text": [
            "Extracting ./data/MNIST/raw/train-images-idx3-ubyte.gz to ./data/MNIST/raw\n",
            "\n",
            "Downloading http://yann.lecun.com/exdb/mnist/train-labels-idx1-ubyte.gz\n",
            "Failed to download (trying next):\n",
            "<urlopen error [Errno 110] Connection timed out>\n",
            "\n",
            "Downloading https://ossci-datasets.s3.amazonaws.com/mnist/train-labels-idx1-ubyte.gz\n",
            "Downloading https://ossci-datasets.s3.amazonaws.com/mnist/train-labels-idx1-ubyte.gz to ./data/MNIST/raw/train-labels-idx1-ubyte.gz\n"
          ]
        },
        {
          "output_type": "stream",
          "name": "stderr",
          "text": [
            "100%|██████████| 28.9k/28.9k [00:00<00:00, 2.36MB/s]\n"
          ]
        },
        {
          "output_type": "stream",
          "name": "stdout",
          "text": [
            "Extracting ./data/MNIST/raw/train-labels-idx1-ubyte.gz to ./data/MNIST/raw\n",
            "\n",
            "Downloading http://yann.lecun.com/exdb/mnist/t10k-images-idx3-ubyte.gz\n",
            "Failed to download (trying next):\n",
            "<urlopen error [Errno 110] Connection timed out>\n",
            "\n",
            "Downloading https://ossci-datasets.s3.amazonaws.com/mnist/t10k-images-idx3-ubyte.gz\n",
            "Downloading https://ossci-datasets.s3.amazonaws.com/mnist/t10k-images-idx3-ubyte.gz to ./data/MNIST/raw/t10k-images-idx3-ubyte.gz\n"
          ]
        },
        {
          "output_type": "stream",
          "name": "stderr",
          "text": [
            "100%|██████████| 1.65M/1.65M [00:00<00:00, 14.2MB/s]\n"
          ]
        },
        {
          "output_type": "stream",
          "name": "stdout",
          "text": [
            "Extracting ./data/MNIST/raw/t10k-images-idx3-ubyte.gz to ./data/MNIST/raw\n",
            "\n",
            "Downloading http://yann.lecun.com/exdb/mnist/t10k-labels-idx1-ubyte.gz\n",
            "Failed to download (trying next):\n",
            "<urlopen error [Errno 110] Connection timed out>\n",
            "\n",
            "Downloading https://ossci-datasets.s3.amazonaws.com/mnist/t10k-labels-idx1-ubyte.gz\n",
            "Downloading https://ossci-datasets.s3.amazonaws.com/mnist/t10k-labels-idx1-ubyte.gz to ./data/MNIST/raw/t10k-labels-idx1-ubyte.gz\n"
          ]
        },
        {
          "output_type": "stream",
          "name": "stderr",
          "text": [
            "100%|██████████| 4.54k/4.54k [00:00<00:00, 4.34MB/s]"
          ]
        },
        {
          "output_type": "stream",
          "name": "stdout",
          "text": [
            "Extracting ./data/MNIST/raw/t10k-labels-idx1-ubyte.gz to ./data/MNIST/raw\n",
            "\n"
          ]
        },
        {
          "output_type": "stream",
          "name": "stderr",
          "text": [
            "\n"
          ]
        },
        {
          "output_type": "display_data",
          "data": {
            "text/plain": [
              "<Figure size 1200x400 with 6 Axes>"
            ],
            "image/png": "[encoded data removed]"
          },
          "metadata": {}
        }
      ]
    },
    {
      "cell_type": "code",
      "source": [
        "# Generate random tensor data\n",
        "data = torch.randn(1000)\n",
        "\n",
        "# Plot histogram\n",
        "plt.hist(data.numpy(), bins=30, color=\"orange\", edgecolor=\"black\", alpha=0.7)\n",
        "plt.xlabel(\"Value\")\n",
        "plt.ylabel(\"Frequency\")\n",
        "plt.title(\"Histogram of Tensor Data\")\n",
        "plt.show()\n"
      ],
      "metadata": {
        "colab": {
          "base_uri": "https://localhost:8080/",
          "height": 472
        },
        "id": "rqgoyf-H2J9U",
        "outputId": "3ae87e4d-26dc-4563-8480-13be0438f798"
      },
      "execution_count": null,
      "outputs": [
        {
          "output_type": "display_data",
          "data": {
            "text/plain": [
              "<Figure size 640x480 with 1 Axes>"
            ],
            "image/png": "[encoded data removed]"
          },
          "metadata": {}
        }
      ]
    }
  ]
}